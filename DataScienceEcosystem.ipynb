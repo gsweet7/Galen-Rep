{
 "cells": [
  {
   "cell_type": "markdown",
   "id": "e9226f2d",
   "metadata": {},
   "source": [
    "# Data Science Tools and Ecosystem"
   ]
  },
  {
   "cell_type": "markdown",
   "id": "f320c93e",
   "metadata": {},
   "source": [
    "In this notebook, Data Science Tools and Ecosystem are summarized."
   ]
  },
  {
   "cell_type": "markdown",
   "id": "9cfd832e",
   "metadata": {},
   "source": [
    "**Objective:**\n",
    "- List popular languages for Data Science\n",
    "- List commonly used libraries for Data Science\n",
    "- Do basic arithmetic"
   ]
  },
  {
   "cell_type": "markdown",
   "id": "8bb8634b",
   "metadata": {},
   "source": [
    "Some of the popular languages that Data Scientists use are:\n",
    "\n",
    "1. Python\n",
    "2. R\n",
    "3. SQL"
   ]
  },
  {
   "cell_type": "markdown",
   "id": "76682052",
   "metadata": {},
   "source": [
    "Some of the commonly used libraries used by Data Scientists include:\n",
    "\n",
    "1. Pandas\n",
    "2. NumPy\n",
    "3. Matplotlib"
   ]
  },
  {
   "cell_type": "markdown",
   "id": "6ff2287e",
   "metadata": {},
   "source": [
    "| Data Science Tools |\n",
    "| -------------------|\n",
    "| Spark SQL|\n",
    "|Apache Airflow|\n",
    "|Kubeflow|"
   ]
  },
  {
   "cell_type": "markdown",
   "id": "c2045c06",
   "metadata": {},
   "source": [
    "### Below are a few examples of evalutating arithmetic expressions in Python:\n",
    "\n",
    "2 + 2 = 4, 3 - 1 = 2, 3 * 3 = 9, 4 / 2 = 2, 3 % 2 = 1, 2 ** 3 = 8, 5 // 2 = 2"
   ]
  },
  {
   "cell_type": "code",
   "execution_count": 10,
   "id": "7b97630d",
   "metadata": {},
   "outputs": [
    {
     "data": {
      "text/plain": [
       "17"
      ]
     },
     "execution_count": 10,
     "metadata": {},
     "output_type": "execute_result"
    }
   ],
   "source": [
    "#This is a simple arithmetic expresssion to multiply then add integers\n",
    "(3*4)+5"
   ]
  },
  {
   "cell_type": "code",
   "execution_count": 11,
   "id": "cad83951",
   "metadata": {},
   "outputs": [
    {
     "data": {
      "text/plain": [
       "3.3333333333333335"
      ]
     },
     "execution_count": 11,
     "metadata": {},
     "output_type": "execute_result"
    }
   ],
   "source": [
    "#This will convert 200 minutes to hours by dividing by 60.\n",
    "200/60"
   ]
  },
  {
   "cell_type": "markdown",
   "id": "e0a89528",
   "metadata": {},
   "source": [
    "## Author\n",
    "Galen Sweet"
   ]
  },
  {
   "cell_type": "code",
   "execution_count": null,
   "id": "ba96dc97",
   "metadata": {},
   "outputs": [],
   "source": []
  }
 ],
 "metadata": {
  "kernelspec": {
   "display_name": "Python 3 (ipykernel)",
   "language": "python",
   "name": "python3"
  },
  "language_info": {
   "codemirror_mode": {
    "name": "ipython",
    "version": 3
   },
   "file_extension": ".py",
   "mimetype": "text/x-python",
   "name": "python",
   "nbconvert_exporter": "python",
   "pygments_lexer": "ipython3",
   "version": "3.9.18"
  }
 },
 "nbformat": 4,
 "nbformat_minor": 5
}
